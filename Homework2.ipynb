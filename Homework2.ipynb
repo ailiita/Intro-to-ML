{
 "cells": [
  {
   "cell_type": "code",
   "execution_count": 142,
   "id": "d14ce375",
   "metadata": {},
   "outputs": [],
   "source": [
    "import numpy as np\n",
    "import pandas as pd"
   ]
  },
  {
   "cell_type": "code",
   "execution_count": 143,
   "id": "710d456f",
   "metadata": {},
   "outputs": [],
   "source": [
    "df = pd.read_csv(\"./laptops.csv\")\n"
   ]
  },
  {
   "cell_type": "code",
   "execution_count": 144,
   "id": "b2cd01d4",
   "metadata": {},
   "outputs": [
    {
     "data": {
      "text/html": [
       "<div>\n",
       "<style scoped>\n",
       "    .dataframe tbody tr th:only-of-type {\n",
       "        vertical-align: middle;\n",
       "    }\n",
       "\n",
       "    .dataframe tbody tr th {\n",
       "        vertical-align: top;\n",
       "    }\n",
       "\n",
       "    .dataframe thead th {\n",
       "        text-align: right;\n",
       "    }\n",
       "</style>\n",
       "<table border=\"1\" class=\"dataframe\">\n",
       "  <thead>\n",
       "    <tr style=\"text-align: right;\">\n",
       "      <th></th>\n",
       "      <th>Laptop</th>\n",
       "      <th>Status</th>\n",
       "      <th>Brand</th>\n",
       "      <th>Model</th>\n",
       "      <th>CPU</th>\n",
       "      <th>RAM</th>\n",
       "      <th>Storage</th>\n",
       "      <th>Storage type</th>\n",
       "      <th>GPU</th>\n",
       "      <th>Screen</th>\n",
       "      <th>Touch</th>\n",
       "      <th>Final Price</th>\n",
       "    </tr>\n",
       "  </thead>\n",
       "  <tbody>\n",
       "    <tr>\n",
       "      <th>0</th>\n",
       "      <td>ASUS ExpertBook B1 B1502CBA-EJ0436X Intel Core...</td>\n",
       "      <td>New</td>\n",
       "      <td>Asus</td>\n",
       "      <td>ExpertBook</td>\n",
       "      <td>Intel Core i5</td>\n",
       "      <td>8</td>\n",
       "      <td>512</td>\n",
       "      <td>SSD</td>\n",
       "      <td>NaN</td>\n",
       "      <td>15.6</td>\n",
       "      <td>No</td>\n",
       "      <td>1009.00</td>\n",
       "    </tr>\n",
       "    <tr>\n",
       "      <th>1</th>\n",
       "      <td>Alurin Go Start Intel Celeron N4020/8GB/256GB ...</td>\n",
       "      <td>New</td>\n",
       "      <td>Alurin</td>\n",
       "      <td>Go</td>\n",
       "      <td>Intel Celeron</td>\n",
       "      <td>8</td>\n",
       "      <td>256</td>\n",
       "      <td>SSD</td>\n",
       "      <td>NaN</td>\n",
       "      <td>15.6</td>\n",
       "      <td>No</td>\n",
       "      <td>299.00</td>\n",
       "    </tr>\n",
       "    <tr>\n",
       "      <th>2</th>\n",
       "      <td>ASUS ExpertBook B1 B1502CBA-EJ0424X Intel Core...</td>\n",
       "      <td>New</td>\n",
       "      <td>Asus</td>\n",
       "      <td>ExpertBook</td>\n",
       "      <td>Intel Core i3</td>\n",
       "      <td>8</td>\n",
       "      <td>256</td>\n",
       "      <td>SSD</td>\n",
       "      <td>NaN</td>\n",
       "      <td>15.6</td>\n",
       "      <td>No</td>\n",
       "      <td>789.00</td>\n",
       "    </tr>\n",
       "    <tr>\n",
       "      <th>3</th>\n",
       "      <td>MSI Katana GF66 12UC-082XES Intel Core i7-1270...</td>\n",
       "      <td>New</td>\n",
       "      <td>MSI</td>\n",
       "      <td>Katana</td>\n",
       "      <td>Intel Core i7</td>\n",
       "      <td>16</td>\n",
       "      <td>1000</td>\n",
       "      <td>SSD</td>\n",
       "      <td>RTX 3050</td>\n",
       "      <td>15.6</td>\n",
       "      <td>No</td>\n",
       "      <td>1199.00</td>\n",
       "    </tr>\n",
       "    <tr>\n",
       "      <th>4</th>\n",
       "      <td>HP 15S-FQ5085NS Intel Core i5-1235U/16GB/512GB...</td>\n",
       "      <td>New</td>\n",
       "      <td>HP</td>\n",
       "      <td>15S</td>\n",
       "      <td>Intel Core i5</td>\n",
       "      <td>16</td>\n",
       "      <td>512</td>\n",
       "      <td>SSD</td>\n",
       "      <td>NaN</td>\n",
       "      <td>15.6</td>\n",
       "      <td>No</td>\n",
       "      <td>669.01</td>\n",
       "    </tr>\n",
       "  </tbody>\n",
       "</table>\n",
       "</div>"
      ],
      "text/plain": [
       "                                              Laptop Status   Brand  \\\n",
       "0  ASUS ExpertBook B1 B1502CBA-EJ0436X Intel Core...    New    Asus   \n",
       "1  Alurin Go Start Intel Celeron N4020/8GB/256GB ...    New  Alurin   \n",
       "2  ASUS ExpertBook B1 B1502CBA-EJ0424X Intel Core...    New    Asus   \n",
       "3  MSI Katana GF66 12UC-082XES Intel Core i7-1270...    New     MSI   \n",
       "4  HP 15S-FQ5085NS Intel Core i5-1235U/16GB/512GB...    New      HP   \n",
       "\n",
       "        Model            CPU  RAM  Storage Storage type       GPU  Screen  \\\n",
       "0  ExpertBook  Intel Core i5    8      512          SSD       NaN    15.6   \n",
       "1          Go  Intel Celeron    8      256          SSD       NaN    15.6   \n",
       "2  ExpertBook  Intel Core i3    8      256          SSD       NaN    15.6   \n",
       "3      Katana  Intel Core i7   16     1000          SSD  RTX 3050    15.6   \n",
       "4         15S  Intel Core i5   16      512          SSD       NaN    15.6   \n",
       "\n",
       "  Touch  Final Price  \n",
       "0    No      1009.00  \n",
       "1    No       299.00  \n",
       "2    No       789.00  \n",
       "3    No      1199.00  \n",
       "4    No       669.01  "
      ]
     },
     "execution_count": 144,
     "metadata": {},
     "output_type": "execute_result"
    }
   ],
   "source": [
    "df.head()"
   ]
  },
  {
   "cell_type": "code",
   "execution_count": 145,
   "id": "b1675723",
   "metadata": {},
   "outputs": [
    {
     "data": {
      "text/html": [
       "<div>\n",
       "<style scoped>\n",
       "    .dataframe tbody tr th:only-of-type {\n",
       "        vertical-align: middle;\n",
       "    }\n",
       "\n",
       "    .dataframe tbody tr th {\n",
       "        vertical-align: top;\n",
       "    }\n",
       "\n",
       "    .dataframe thead th {\n",
       "        text-align: right;\n",
       "    }\n",
       "</style>\n",
       "<table border=\"1\" class=\"dataframe\">\n",
       "  <thead>\n",
       "    <tr style=\"text-align: right;\">\n",
       "      <th></th>\n",
       "      <th>laptop</th>\n",
       "      <th>status</th>\n",
       "      <th>brand</th>\n",
       "      <th>model</th>\n",
       "      <th>cpu</th>\n",
       "      <th>ram</th>\n",
       "      <th>storage</th>\n",
       "      <th>storage_type</th>\n",
       "      <th>gpu</th>\n",
       "      <th>screen</th>\n",
       "      <th>touch</th>\n",
       "      <th>final_price</th>\n",
       "    </tr>\n",
       "  </thead>\n",
       "  <tbody>\n",
       "    <tr>\n",
       "      <th>0</th>\n",
       "      <td>ASUS ExpertBook B1 B1502CBA-EJ0436X Intel Core...</td>\n",
       "      <td>New</td>\n",
       "      <td>Asus</td>\n",
       "      <td>ExpertBook</td>\n",
       "      <td>Intel Core i5</td>\n",
       "      <td>8</td>\n",
       "      <td>512</td>\n",
       "      <td>SSD</td>\n",
       "      <td>NaN</td>\n",
       "      <td>15.6</td>\n",
       "      <td>No</td>\n",
       "      <td>1009.0</td>\n",
       "    </tr>\n",
       "    <tr>\n",
       "      <th>1</th>\n",
       "      <td>Alurin Go Start Intel Celeron N4020/8GB/256GB ...</td>\n",
       "      <td>New</td>\n",
       "      <td>Alurin</td>\n",
       "      <td>Go</td>\n",
       "      <td>Intel Celeron</td>\n",
       "      <td>8</td>\n",
       "      <td>256</td>\n",
       "      <td>SSD</td>\n",
       "      <td>NaN</td>\n",
       "      <td>15.6</td>\n",
       "      <td>No</td>\n",
       "      <td>299.0</td>\n",
       "    </tr>\n",
       "  </tbody>\n",
       "</table>\n",
       "</div>"
      ],
      "text/plain": [
       "                                              laptop status   brand  \\\n",
       "0  ASUS ExpertBook B1 B1502CBA-EJ0436X Intel Core...    New    Asus   \n",
       "1  Alurin Go Start Intel Celeron N4020/8GB/256GB ...    New  Alurin   \n",
       "\n",
       "        model            cpu  ram  storage storage_type  gpu  screen touch  \\\n",
       "0  ExpertBook  Intel Core i5    8      512          SSD  NaN    15.6    No   \n",
       "1          Go  Intel Celeron    8      256          SSD  NaN    15.6    No   \n",
       "\n",
       "   final_price  \n",
       "0       1009.0  \n",
       "1        299.0  "
      ]
     },
     "execution_count": 145,
     "metadata": {},
     "output_type": "execute_result"
    }
   ],
   "source": [
    "df.columns=df.columns.str.lower().str.replace(' ','_')\n",
    "df.head(2)"
   ]
  },
  {
   "cell_type": "code",
   "execution_count": 146,
   "id": "384bfe76",
   "metadata": {},
   "outputs": [
    {
     "data": {
      "text/html": [
       "<div>\n",
       "<style scoped>\n",
       "    .dataframe tbody tr th:only-of-type {\n",
       "        vertical-align: middle;\n",
       "    }\n",
       "\n",
       "    .dataframe tbody tr th {\n",
       "        vertical-align: top;\n",
       "    }\n",
       "\n",
       "    .dataframe thead th {\n",
       "        text-align: right;\n",
       "    }\n",
       "</style>\n",
       "<table border=\"1\" class=\"dataframe\">\n",
       "  <thead>\n",
       "    <tr style=\"text-align: right;\">\n",
       "      <th></th>\n",
       "      <th>ram</th>\n",
       "      <th>storage</th>\n",
       "      <th>screen</th>\n",
       "      <th>final_price</th>\n",
       "    </tr>\n",
       "  </thead>\n",
       "  <tbody>\n",
       "    <tr>\n",
       "      <th>0</th>\n",
       "      <td>8</td>\n",
       "      <td>512</td>\n",
       "      <td>15.6</td>\n",
       "      <td>1009.00</td>\n",
       "    </tr>\n",
       "    <tr>\n",
       "      <th>1</th>\n",
       "      <td>8</td>\n",
       "      <td>256</td>\n",
       "      <td>15.6</td>\n",
       "      <td>299.00</td>\n",
       "    </tr>\n",
       "    <tr>\n",
       "      <th>2</th>\n",
       "      <td>8</td>\n",
       "      <td>256</td>\n",
       "      <td>15.6</td>\n",
       "      <td>789.00</td>\n",
       "    </tr>\n",
       "    <tr>\n",
       "      <th>3</th>\n",
       "      <td>16</td>\n",
       "      <td>1000</td>\n",
       "      <td>15.6</td>\n",
       "      <td>1199.00</td>\n",
       "    </tr>\n",
       "    <tr>\n",
       "      <th>4</th>\n",
       "      <td>16</td>\n",
       "      <td>512</td>\n",
       "      <td>15.6</td>\n",
       "      <td>669.01</td>\n",
       "    </tr>\n",
       "  </tbody>\n",
       "</table>\n",
       "</div>"
      ],
      "text/plain": [
       "   ram  storage  screen  final_price\n",
       "0    8      512    15.6      1009.00\n",
       "1    8      256    15.6       299.00\n",
       "2    8      256    15.6       789.00\n",
       "3   16     1000    15.6      1199.00\n",
       "4   16      512    15.6       669.01"
      ]
     },
     "execution_count": 146,
     "metadata": {},
     "output_type": "execute_result"
    }
   ],
   "source": [
    "df_new = df[['ram','storage','screen','final_price']]\n",
    "df_new.head()"
   ]
  },
  {
   "cell_type": "code",
   "execution_count": 147,
   "id": "0e2d2e78",
   "metadata": {},
   "outputs": [],
   "source": [
    "import matplotlib.pyplot as plt\n",
    "import seaborn as sns"
   ]
  },
  {
   "cell_type": "code",
   "execution_count": 148,
   "id": "fdbd0a5b",
   "metadata": {},
   "outputs": [
    {
     "data": {
      "text/plain": [
       "<Axes: xlabel='final_price', ylabel='Count'>"
      ]
     },
     "execution_count": 148,
     "metadata": {},
     "output_type": "execute_result"
    },
    {
     "data": {
      "image/png": "[encoded data removed]",
      "text/plain": [
       "<Figure size 640x480 with 1 Axes>"
      ]
     },
     "metadata": {},
     "output_type": "display_data"
    }
   ],
   "source": [
    "sns.histplot(df_new.final_price,  bins=100)"
   ]
  },
  {
   "cell_type": "markdown",
   "id": "015bddc1",
   "metadata": {},
   "source": [
    "# Question 1"
   ]
  },
  {
   "cell_type": "code",
   "execution_count": 149,
   "id": "9ba5845a",
   "metadata": {},
   "outputs": [
    {
     "data": {
      "text/plain": [
       "ram            0\n",
       "storage        0\n",
       "screen         4\n",
       "final_price    0\n",
       "dtype: int64"
      ]
     },
     "execution_count": 149,
     "metadata": {},
     "output_type": "execute_result"
    }
   ],
   "source": [
    "df_new.isnull().sum()"
   ]
  },
  {
   "cell_type": "markdown",
   "id": "46bfd8a9",
   "metadata": {},
   "source": [
    "# Question 2"
   ]
  },
  {
   "cell_type": "code",
   "execution_count": 150,
   "id": "6b7bd9cb",
   "metadata": {},
   "outputs": [
    {
     "data": {
      "text/plain": [
       "16.0"
      ]
     },
     "execution_count": 150,
     "metadata": {},
     "output_type": "execute_result"
    }
   ],
   "source": [
    "df_new.ram.median()"
   ]
  },
  {
   "cell_type": "markdown",
   "id": "8c1c27dd",
   "metadata": {},
   "source": [
    "## Split dataset"
   ]
  },
  {
   "cell_type": "code",
   "execution_count": 151,
   "id": "92eda7e6-c630-4ea4-ad72-d1afdff0cf64",
   "metadata": {},
   "outputs": [],
   "source": [
    "def split_data(df):\n",
    "    n = len(df)\n",
    "    n_val = int(n*0.2)\n",
    "    n_test = int(n*0.2)\n",
    "    n_train= n - (n_val + n_test)\n",
    "\n",
    "    idx = np.arange(n)\n",
    "    np.random.shuffle(idx)\n",
    "\n",
    "    df_train = df_new.iloc[idx[:n_train]]\n",
    "    df_val = df_new.iloc[idx[n_train:n_train + n_val]]\n",
    "    df_test = df_new.iloc[idx[n_train + n_val:]]\n",
    "    \n",
    "    df_train = df_train.reset_index(drop=True)\n",
    "    df_val = df_val.reset_index(drop=True)\n",
    "    df_test = df_test.reset_index(drop=True)\n",
    "\n",
    "    return df_train, df_val, df_test"
   ]
  },
  {
   "cell_type": "code",
   "execution_count": 152,
   "id": "d26ec1ee",
   "metadata": {},
   "outputs": [],
   "source": [
    "def y_vectors(df_train, df_val, df_test):\n",
    "    \n",
    "    y_train = (df_train.final_price.values)\n",
    "    y_test = (df_test.final_price.values)\n",
    "    y_val = (df_val.final_price.values)\n",
    "\n",
    "    y_train_log = np.log1p(df_train.final_price.values)\n",
    "    y_test_log = np.log1p(df_test.final_price.values)\n",
    "    y_val_log = np.log1p(df_val.final_price.values)\n",
    "\n",
    "    del df_train['final_price']\n",
    "    del df_test['final_price']\n",
    "    del df_val['final_price']\n",
    "\n",
    "    return y_train, y_test, y_val, y_train_log, y_test_log, y_val_log"
   ]
  },
  {
   "cell_type": "code",
   "execution_count": 153,
   "id": "6b29f3e7",
   "metadata": {},
   "outputs": [],
   "source": [
    "np.random.seed(42)"
   ]
  },
  {
   "cell_type": "code",
   "execution_count": 154,
   "id": "7580de23-751e-42de-bee9-4de094eeb1a3",
   "metadata": {},
   "outputs": [],
   "source": [
    "df_train, df_val, df_test = split_data(df_new)"
   ]
  },
  {
   "cell_type": "code",
   "execution_count": 155,
   "id": "71f95bcb-f84d-42c0-ab72-1d640895cf34",
   "metadata": {},
   "outputs": [],
   "source": [
    "y_train, y_test, y_val, y_train_log, y_test_log, y_val_log = y_vectors(df_train, df_val, df_test)"
   ]
  },
  {
   "cell_type": "markdown",
   "id": "2187c464",
   "metadata": {},
   "source": [
    "# Question 3"
   ]
  },
  {
   "cell_type": "code",
   "execution_count": 156,
   "id": "0ca75502",
   "metadata": {},
   "outputs": [],
   "source": [
    "def train_linear_reg(X,y):\n",
    "    ones = np.ones(X.shape[0])\n",
    "    X = np.column_stack([ones, X])\n",
    "    \n",
    "    XTX = np.dot(X.T,X)\n",
    "    inv = np.linalg.inv(XTX)\n",
    "    w = np.linalg.multi_dot([inv,X.T,y])\n",
    "    \n",
    "    return w[0], w[1:]"
   ]
  },
  {
   "cell_type": "code",
   "execution_count": 157,
   "id": "abb1ba90",
   "metadata": {},
   "outputs": [],
   "source": [
    "def prepare_X(df, value):\n",
    "    \n",
    "    #Faire une copie utilisée dans la fct pour pas que données originales soient modifiées\n",
    "    df = df.copy() \n",
    "    df['screen'] = df['screen'].fillna(value)\n",
    "    X = df.values\n",
    "    \n",
    "    return X"
   ]
  },
  {
   "cell_type": "code",
   "execution_count": 158,
   "id": "9393e90f",
   "metadata": {},
   "outputs": [],
   "source": [
    "def rmse(y,y_pred):\n",
    "    error = (y-y_pred)**2\n",
    "    mse = error.mean()\n",
    "    return np.sqrt(mse)"
   ]
  },
  {
   "cell_type": "markdown",
   "id": "93bf9cd1",
   "metadata": {},
   "source": [
    "## Replace missing values by 0 and training model"
   ]
  },
  {
   "cell_type": "code",
   "execution_count": 159,
   "id": "ff6e29ff",
   "metadata": {},
   "outputs": [],
   "source": [
    "X_train = prepare_X(df_train, 0)"
   ]
  },
  {
   "cell_type": "code",
   "execution_count": 76,
   "id": "4465ade4",
   "metadata": {},
   "outputs": [
    {
     "data": {
      "text/plain": [
       "(676.8954853003961, array([ 43.70681555,   0.86506867, -36.10399833]))"
      ]
     },
     "execution_count": 76,
     "metadata": {},
     "output_type": "execute_result"
    }
   ],
   "source": [
    "w0, w = train_linear_reg(X_train, y_train)\n",
    "w0, w"
   ]
  },
  {
   "cell_type": "code",
   "execution_count": 160,
   "id": "59352a51-098e-4179-9e2a-d9d8e79221d5",
   "metadata": {},
   "outputs": [
    {
     "data": {
      "text/plain": [
       "(6.727163706112719, array([ 0.02630589,  0.00066041, -0.03651909]))"
      ]
     },
     "execution_count": 160,
     "metadata": {},
     "output_type": "execute_result"
    }
   ],
   "source": [
    "w0_log, w_log = train_linear_reg(X_train, y_train_log)\n",
    "w0_log, w_log"
   ]
  },
  {
   "cell_type": "code",
   "execution_count": 161,
   "id": "8c8a73a0",
   "metadata": {},
   "outputs": [
    {
     "data": {
      "text/plain": [
       "array([2353.34323589,  379.22889194, 2415.32855242, ..., 1234.59599817,\n",
       "       1296.5813147 , 1296.5813147 ])"
      ]
     },
     "execution_count": 161,
     "metadata": {},
     "output_type": "execute_result"
    }
   ],
   "source": [
    "y_pred = w0 + np.dot(X_train, w)\n",
    "y_pred"
   ]
  },
  {
   "cell_type": "code",
   "execution_count": 162,
   "id": "84a4c0a1-679d-4935-8222-65708b3de5d6",
   "metadata": {},
   "outputs": [
    {
     "data": {
      "text/plain": [
       "array([7.65966079, 6.35973416, 7.71809133, ..., 6.91648826, 6.9749188 ,\n",
       "       6.9749188 ])"
      ]
     },
     "execution_count": 162,
     "metadata": {},
     "output_type": "execute_result"
    }
   ],
   "source": [
    "y_pred_log = w0_log + np.dot(X_train, w_log)\n",
    "y_pred_log"
   ]
  },
  {
   "cell_type": "code",
   "execution_count": 163,
   "id": "5add9a66",
   "metadata": {},
   "outputs": [
    {
     "data": {
      "text/plain": [
       "<Axes: ylabel='Count'>"
      ]
     },
     "execution_count": 163,
     "metadata": {},
     "output_type": "execute_result"
    },
    {
     "data": {
      "image/png": "[encoded data removed]",
      "text/plain": [
       "<Figure size 640x480 with 1 Axes>"
      ]
     },
     "metadata": {},
     "output_type": "display_data"
    }
   ],
   "source": [
    "sns.histplot(y_pred, color='red', alpha=0.5, bins=50)\n",
    "sns.histplot(y_train, color='blue', alpha=0.5, bins=50)"
   ]
  },
  {
   "cell_type": "markdown",
   "id": "d6285964",
   "metadata": {},
   "source": [
    "## Replace missing values by mean and training model"
   ]
  },
  {
   "cell_type": "code",
   "execution_count": 164,
   "id": "8aebaaaa",
   "metadata": {},
   "outputs": [],
   "source": [
    "moy = df_train.screen.mean()"
   ]
  },
  {
   "cell_type": "code",
   "execution_count": 165,
   "id": "b3108aa5",
   "metadata": {},
   "outputs": [],
   "source": [
    "X_train = prepare_X(df_train, moy)"
   ]
  },
  {
   "cell_type": "code",
   "execution_count": 166,
   "id": "30eea4fe",
   "metadata": {},
   "outputs": [
    {
     "data": {
      "text/plain": [
       "(808.915990733396, array([ 43.90774584,   0.87135236, -45.18273312]))"
      ]
     },
     "execution_count": 166,
     "metadata": {},
     "output_type": "execute_result"
    }
   ],
   "source": [
    "w0, w = train_linear_reg(X_train, y_train)\n",
    "w0, w"
   ]
  },
  {
   "cell_type": "code",
   "execution_count": 167,
   "id": "691c3f45-8117-4f01-b748-a0baa4003a85",
   "metadata": {},
   "outputs": [
    {
     "data": {
      "text/plain": [
       "(6.85556654413449, array([ 0.02650252,  0.00066643, -0.04534341]))"
      ]
     },
     "execution_count": 167,
     "metadata": {},
     "output_type": "execute_result"
    }
   ],
   "source": [
    "w0_log, w_log = train_linear_reg(X_train, y_train_log)\n",
    "w0_log, w_log"
   ]
  },
  {
   "cell_type": "code",
   "execution_count": 168,
   "id": "bcd74757",
   "metadata": {},
   "outputs": [
    {
     "data": {
      "text/plain": [
       "array([2380.46558232,  403.23698821, 2452.75795532, ..., 1252.72169651,\n",
       "       1325.01406951, 1325.01406951])"
      ]
     },
     "execution_count": 168,
     "metadata": {},
     "output_type": "execute_result"
    }
   ],
   "source": [
    "y_pred = w0 + np.dot(X_train, w)\n",
    "y_pred"
   ]
  },
  {
   "cell_type": "code",
   "execution_count": 169,
   "id": "d583dfbc-ed2f-4e45-9a5e-e1a68a5ada7d",
   "metadata": {},
   "outputs": [
    {
     "data": {
      "text/plain": [
       "array([7.662716  , 6.36488586, 7.73526545, ..., 6.91345982, 6.98600927,\n",
       "       6.98600927])"
      ]
     },
     "execution_count": 169,
     "metadata": {},
     "output_type": "execute_result"
    }
   ],
   "source": [
    "y_pred_log = w0_log + np.dot(X_train, w_log)\n",
    "y_pred_log"
   ]
  },
  {
   "cell_type": "code",
   "execution_count": 170,
   "id": "e2b5e368",
   "metadata": {},
   "outputs": [
    {
     "data": {
      "text/plain": [
       "<Axes: ylabel='Count'>"
      ]
     },
     "execution_count": 170,
     "metadata": {},
     "output_type": "execute_result"
    },
    {
     "data": {
      "image/png": "[encoded data removed]",
      "text/plain": [
       "<Figure size 640x480 with 1 Axes>"
      ]
     },
     "metadata": {},
     "output_type": "display_data"
    }
   ],
   "source": [
    "sns.histplot(y_pred, color='red', alpha=0.5, bins=50)\n",
    "sns.histplot(y_train, color='blue', alpha=0.5, bins=50)"
   ]
  },
  {
   "cell_type": "markdown",
   "id": "12e569cd",
   "metadata": {},
   "source": [
    "## Validation and RMSE computation"
   ]
  },
  {
   "cell_type": "code",
   "execution_count": 172,
   "id": "26d42ae4",
   "metadata": {},
   "outputs": [
    {
     "name": "stdout",
     "output_type": "stream",
     "text": [
      "589.28\n",
      "0.42\n"
     ]
    }
   ],
   "source": [
    "X_val = prepare_X(df_val, 0)\n",
    "w0, w = train_linear_reg(X_val, y_val)\n",
    "y_pred_val = w0 + np.dot(X_val, w)\n",
    "score = rmse(y_pred_val,y_val)\n",
    "print(round(score, 2))\n",
    "\n",
    "X_val = prepare_X(df_val, 0)\n",
    "w0_log, w_log = train_linear_reg(X_val, y_val_log)\n",
    "y_pred_val_log = w0_log + np.dot(X_val, w_log)\n",
    "score = rmse(y_pred_val_log,y_val_log)\n",
    "print(round(score, 2))\n",
    "\n"
   ]
  },
  {
   "cell_type": "code",
   "execution_count": 174,
   "id": "39f3f84a",
   "metadata": {},
   "outputs": [
    {
     "name": "stdout",
     "output_type": "stream",
     "text": [
      "590.65\n",
      "0.42\n"
     ]
    }
   ],
   "source": [
    "X_val = prepare_X(df_val, moy)\n",
    "w0, w = train_linear_reg(X_val, y_val)\n",
    "y_pred_val = w0 + np.dot(X_val, w)\n",
    "score = rmse(y_pred_val,y_val)\n",
    "print(round(score,2))\n",
    "\n",
    "X_val = prepare_X(df_val, 0)\n",
    "w0_log, w_log = train_linear_reg(X_val, y_val_log)\n",
    "y_pred_val_log = w0_log + np.dot(X_val, w_log)\n",
    "score = rmse(y_pred_val_log,y_val_log)\n",
    "print(round(score, 2))"
   ]
  },
  {
   "cell_type": "markdown",
   "id": "ed2a4258",
   "metadata": {},
   "source": [
    "# Question 4"
   ]
  },
  {
   "cell_type": "code",
   "execution_count": 175,
   "id": "135e63e5",
   "metadata": {},
   "outputs": [],
   "source": [
    "def train_linear_regression_reg(X, y, r=0.001):\n",
    "    ones = np.ones(X.shape[0])\n",
    "    X = np.column_stack([ones, X])\n",
    "\n",
    "    XTX = X.T.dot(X)\n",
    "    XTX = XTX + r * np.eye(XTX.shape[0])\n",
    "\n",
    "    XTX_inv = np.linalg.inv(XTX)\n",
    "    w_full = XTX_inv.dot(X.T).dot(y)\n",
    "    \n",
    "    return w_full[0], w_full[1:]"
   ]
  },
  {
   "cell_type": "code",
   "execution_count": 178,
   "id": "71dd9c98",
   "metadata": {},
   "outputs": [
    {
     "name": "stdout",
     "output_type": "stream",
     "text": [
      "0       597.36       0.43\n",
      "0.01       597.36       0.43\n",
      "0.1       597.35       0.43\n",
      "1       597.21       0.43\n",
      "5       597.01       0.46\n",
      "10       597.06       0.51\n",
      "100       597.9       0.67\n"
     ]
    }
   ],
   "source": [
    "X_train = prepare_X(df_train, 0)\n",
    "\n",
    "for r in [0, 0.01, 0.1, 1, 5, 10, 100]:\n",
    "    w0, w = train_linear_regression_reg(X_train, y_train, r=r)\n",
    "    w0_log, w_log = train_linear_regression_reg(X_train, y_train_log, r=r)\n",
    "\n",
    "    X_val = prepare_X(df_val, 0)\n",
    "    y_pred = w0 + X_val.dot(w)\n",
    "    score = rmse(y_val, y_pred)\n",
    "\n",
    "    y_pred_log = w0_log + X_val.dot(w_log)\n",
    "    score_log = rmse(y_val_log, y_pred_log)  \n",
    "    \n",
    "    print(r, \"     \", round(score,2),\"     \", round(score_log,2))"
   ]
  },
  {
   "cell_type": "code",
   "execution_count": null,
   "id": "45b828fd-2c3a-4c99-91f7-1a9b654876fa",
   "metadata": {},
   "outputs": [],
   "source": []
  },
  {
   "cell_type": "markdown",
   "id": "1c807fd6",
   "metadata": {},
   "source": [
    "# Question 5"
   ]
  },
  {
   "cell_type": "code",
   "execution_count": 180,
   "id": "4dc1feb6",
   "metadata": {},
   "outputs": [
    {
     "name": "stdout",
     "output_type": "stream",
     "text": [
      "0 562.3633743953562\n",
      "1 635.1034339888065\n",
      "2 587.6817062431007\n",
      "3 590.778894052774\n",
      "4 562.9603400217825\n",
      "5 562.7090932685971\n",
      "6 627.1784889470537\n",
      "7 542.7178839838225\n",
      "8 581.4553067752282\n",
      "9 549.2818205242651\n"
     ]
    }
   ],
   "source": [
    "scores = []\n",
    "for value in [0, 1, 2, 3, 4, 5, 6, 7, 8, 9]:  \n",
    "\n",
    "    np.random.seed(value)\n",
    "\n",
    "    df_train, df_val, df_test = split_data(df_new)\n",
    "    y_train, y_test, y_val,y_train_log, y_test_log, y_val_log = y_vectors(df_train, df_val, df_test)    \n",
    "    \n",
    "    X_train = prepare_X(df_train, 0)\n",
    "    w0, w = train_linear_reg(X_train, y_train)\n",
    "    w0, w\n",
    "    y_pred = w0 + np.dot(X_train, w)\n",
    "    y_pred\n",
    "\n",
    "    X_val = prepare_X(df_val, 0)\n",
    "    w0, w = train_linear_reg(X_val, y_val)\n",
    "    y_pred_val = w0 + np.dot(X_val, w)\n",
    "    score = rmse(y_pred_val,y_val)\n",
    "    scores.append(score)\n",
    "\n",
    "    print(value, score)"
   ]
  },
  {
   "cell_type": "code",
   "execution_count": 181,
   "id": "edf021e8",
   "metadata": {},
   "outputs": [
    {
     "data": {
      "text/plain": [
       "29.449873777491646"
      ]
     },
     "execution_count": 181,
     "metadata": {},
     "output_type": "execute_result"
    }
   ],
   "source": [
    "np.std(scores)"
   ]
  },
  {
   "cell_type": "code",
   "execution_count": 92,
   "id": "b86e8f3d",
   "metadata": {},
   "outputs": [],
   "source": [
    "#df_describe = pd.DataFrame(scores)\n",
    "#df_describe.describe()"
   ]
  },
  {
   "cell_type": "markdown",
   "id": "b6bd6f4a",
   "metadata": {},
   "source": [
    "# Question 6"
   ]
  },
  {
   "cell_type": "code",
   "execution_count": 182,
   "id": "7ee9315f",
   "metadata": {},
   "outputs": [],
   "source": [
    "np.random.seed(9)\n",
    "\n",
    "df_train, df_val, df_test = split_data(df_new)\n",
    "y_train, y_test, y_val,y_train_log, y_test_log, y_val_log = y_vectors(df_train, df_val, df_test)    \n",
    "\n",
    "    "
   ]
  },
  {
   "cell_type": "code",
   "execution_count": 183,
   "id": "1820a4bf",
   "metadata": {},
   "outputs": [
    {
     "data": {
      "text/plain": [
       "array([[  32. , 1000. ,   15.6],\n",
       "       [   8. ,  512. ,   13.3],\n",
       "       [   8. ,  512. ,   15.6],\n",
       "       ...,\n",
       "       [   8. ,  256. ,   15.6],\n",
       "       [  16. ,  512. ,   15.6],\n",
       "       [  16. ,  512. ,   15.6]])"
      ]
     },
     "execution_count": 183,
     "metadata": {},
     "output_type": "execute_result"
    }
   ],
   "source": [
    "df_full_train = pd.concat([df_train, df_val])\n",
    "df_full_train = df_full_train.reset_index(drop=True)\n",
    "X_full_train = prepare_X(df_full_train,0)\n",
    "X_full_train"
   ]
  },
  {
   "cell_type": "code",
   "execution_count": 184,
   "id": "bed99936",
   "metadata": {},
   "outputs": [],
   "source": [
    "y_full_train = np.concatenate([y_train, y_val])\n",
    "w0, w = train_linear_regression_reg(X_full_train, y_full_train, r=0.001)"
   ]
  },
  {
   "cell_type": "code",
   "execution_count": 185,
   "id": "0f844a47",
   "metadata": {},
   "outputs": [
    {
     "data": {
      "text/plain": [
       "608.6099822049559"
      ]
     },
     "execution_count": 185,
     "metadata": {},
     "output_type": "execute_result"
    }
   ],
   "source": [
    "X_test = prepare_X(df_test,0)\n",
    "y_pred = w0 + X_test.dot(w)\n",
    "score = rmse(y_test, y_pred)\n",
    "score"
   ]
  }
 ],
 "metadata": {
  "kernelspec": {
   "display_name": "Python 3 (ipykernel)",
   "language": "python",
   "name": "python3"
  },
  "language_info": {
   "codemirror_mode": {
    "name": "ipython",
    "version": 3
   },
   "file_extension": ".py",
   "mimetype": "text/x-python",
   "name": "python",
   "nbconvert_exporter": "python",
   "pygments_lexer": "ipython3",
   "version": "3.11.10"
  }
 },
 "nbformat": 4,
 "nbformat_minor": 5
}
