{
 "cells": [
  {
   "cell_type": "markdown",
   "id": "408f9fde",
   "metadata": {},
   "source": [
    "# Homework 1"
   ]
  },
  {
   "cell_type": "code",
   "execution_count": 3,
   "id": "aacef097",
   "metadata": {},
   "outputs": [],
   "source": [
    "import numpy as np\n",
    "import pandas as pd\n",
    "\n",
    "np.set_printoptions(suppress=True)"
   ]
  },
  {
   "cell_type": "markdown",
   "id": "64a23838",
   "metadata": {},
   "source": [
    "## Q1 Panda version"
   ]
  },
  {
   "cell_type": "code",
   "execution_count": 4,
   "id": "febf149a",
   "metadata": {},
   "outputs": [
    {
     "name": "stdout",
     "output_type": "stream",
     "text": [
      "2.0.3\n"
     ]
    }
   ],
   "source": [
    "ver = pd.__version__\n",
    "print(ver)"
   ]
  },
  {
   "cell_type": "markdown",
   "id": "fe450df4",
   "metadata": {},
   "source": [
    "## Q2 Records count"
   ]
  },
  {
   "cell_type": "code",
   "execution_count": 5,
   "id": "94a287fb",
   "metadata": {},
   "outputs": [
    {
     "data": {
      "text/plain": [
       "2160"
      ]
     },
     "execution_count": 5,
     "metadata": {},
     "output_type": "execute_result"
    }
   ],
   "source": [
    "df = pd.read_csv(\"./laptops.csv\")\n",
    "df.shape[0]"
   ]
  },
  {
   "cell_type": "code",
   "execution_count": 6,
   "id": "bd247bf2",
   "metadata": {},
   "outputs": [
    {
     "data": {
      "text/html": [
       "<div>\n",
       "<style scoped>\n",
       "    .dataframe tbody tr th:only-of-type {\n",
       "        vertical-align: middle;\n",
       "    }\n",
       "\n",
       "    .dataframe tbody tr th {\n",
       "        vertical-align: top;\n",
       "    }\n",
       "\n",
       "    .dataframe thead th {\n",
       "        text-align: right;\n",
       "    }\n",
       "</style>\n",
       "<table border=\"1\" class=\"dataframe\">\n",
       "  <thead>\n",
       "    <tr style=\"text-align: right;\">\n",
       "      <th></th>\n",
       "      <th>Laptop</th>\n",
       "      <th>Status</th>\n",
       "      <th>Brand</th>\n",
       "      <th>Model</th>\n",
       "      <th>CPU</th>\n",
       "      <th>RAM</th>\n",
       "      <th>Storage</th>\n",
       "      <th>Storage type</th>\n",
       "      <th>GPU</th>\n",
       "      <th>Screen</th>\n",
       "      <th>Touch</th>\n",
       "      <th>Final Price</th>\n",
       "    </tr>\n",
       "  </thead>\n",
       "  <tbody>\n",
       "    <tr>\n",
       "      <th>0</th>\n",
       "      <td>ASUS ExpertBook B1 B1502CBA-EJ0436X Intel Core...</td>\n",
       "      <td>New</td>\n",
       "      <td>Asus</td>\n",
       "      <td>ExpertBook</td>\n",
       "      <td>Intel Core i5</td>\n",
       "      <td>8</td>\n",
       "      <td>512</td>\n",
       "      <td>SSD</td>\n",
       "      <td>NaN</td>\n",
       "      <td>15.6</td>\n",
       "      <td>No</td>\n",
       "      <td>1009.0</td>\n",
       "    </tr>\n",
       "    <tr>\n",
       "      <th>1</th>\n",
       "      <td>Alurin Go Start Intel Celeron N4020/8GB/256GB ...</td>\n",
       "      <td>New</td>\n",
       "      <td>Alurin</td>\n",
       "      <td>Go</td>\n",
       "      <td>Intel Celeron</td>\n",
       "      <td>8</td>\n",
       "      <td>256</td>\n",
       "      <td>SSD</td>\n",
       "      <td>NaN</td>\n",
       "      <td>15.6</td>\n",
       "      <td>No</td>\n",
       "      <td>299.0</td>\n",
       "    </tr>\n",
       "  </tbody>\n",
       "</table>\n",
       "</div>"
      ],
      "text/plain": [
       "                                              Laptop Status   Brand  \\\n",
       "0  ASUS ExpertBook B1 B1502CBA-EJ0436X Intel Core...    New    Asus   \n",
       "1  Alurin Go Start Intel Celeron N4020/8GB/256GB ...    New  Alurin   \n",
       "\n",
       "        Model            CPU  RAM  Storage Storage type  GPU  Screen Touch  \\\n",
       "0  ExpertBook  Intel Core i5    8      512          SSD  NaN    15.6    No   \n",
       "1          Go  Intel Celeron    8      256          SSD  NaN    15.6    No   \n",
       "\n",
       "   Final Price  \n",
       "0       1009.0  \n",
       "1        299.0  "
      ]
     },
     "execution_count": 6,
     "metadata": {},
     "output_type": "execute_result"
    }
   ],
   "source": [
    "df.head(2)"
   ]
  },
  {
   "cell_type": "markdown",
   "id": "673cfd34",
   "metadata": {},
   "source": [
    "## Q3 Laptop Brands"
   ]
  },
  {
   "cell_type": "code",
   "execution_count": 7,
   "id": "7ef2aa89",
   "metadata": {},
   "outputs": [
    {
     "data": {
      "text/plain": [
       "27"
      ]
     },
     "execution_count": 7,
     "metadata": {},
     "output_type": "execute_result"
    }
   ],
   "source": [
    "df.Brand.nunique()\n"
   ]
  },
  {
   "cell_type": "markdown",
   "id": "39d2624d",
   "metadata": {},
   "source": [
    "## Q4 Missing Values"
   ]
  },
  {
   "cell_type": "code",
   "execution_count": 8,
   "id": "d8a5adaf",
   "metadata": {},
   "outputs": [
    {
     "data": {
      "text/plain": [
       "Laptop             0\n",
       "Status             0\n",
       "Brand              0\n",
       "Model              0\n",
       "CPU                0\n",
       "RAM                0\n",
       "Storage            0\n",
       "Storage type      42\n",
       "GPU             1371\n",
       "Screen             4\n",
       "Touch              0\n",
       "Final Price        0\n",
       "dtype: int64"
      ]
     },
     "execution_count": 8,
     "metadata": {},
     "output_type": "execute_result"
    }
   ],
   "source": [
    "df.isnull().sum()\n"
   ]
  },
  {
   "cell_type": "markdown",
   "id": "6f88d4fb",
   "metadata": {},
   "source": [
    "## Q5 Max Final Price "
   ]
  },
  {
   "cell_type": "code",
   "execution_count": 12,
   "id": "d81a1c45",
   "metadata": {},
   "outputs": [
    {
     "data": {
      "text/plain": [
       "Final Price    3936.0\n",
       "dtype: float64"
      ]
     },
     "execution_count": 12,
     "metadata": {},
     "output_type": "execute_result"
    }
   ],
   "source": [
    "df.groupby(\"Brand\")[[\"Final Price\"]].max()\n",
    "df[df[\"Brand\"]==\"Dell\"][[\"Final Price\"]].max()"
   ]
  },
  {
   "cell_type": "markdown",
   "id": "68f07479",
   "metadata": {},
   "source": [
    "## Q6 Median Value of Screen"
   ]
  },
  {
   "cell_type": "code",
   "execution_count": 13,
   "id": "22b094b2",
   "metadata": {},
   "outputs": [
    {
     "name": "stdout",
     "output_type": "stream",
     "text": [
      "The median value of Screen is : 15.6\n",
      "The most common value in Screen is : 15.6\n",
      "The median value of Screen is : 15.6\n"
     ]
    }
   ],
   "source": [
    "med = df[\"Screen\"].median()\n",
    "print(f\"The median value of Screen is : {med}\")\n",
    "\n",
    "mod = df[\"Screen\"].mode(dropna=True)[0]\n",
    "print(f\"The most common value in Screen is : {mod}\")\n",
    "\n",
    "df[\"Screen\"].fillna(mod, inplace=True)\n",
    "med = df[\"Screen\"].median()\n",
    "print(f\"The median value of Screen is : {med}\")"
   ]
  },
  {
   "cell_type": "markdown",
   "id": "b1e7376f",
   "metadata": {},
   "source": [
    "## Q7 Sum of weights"
   ]
  },
  {
   "cell_type": "code",
   "execution_count": 35,
   "id": "a86d2fc3",
   "metadata": {},
   "outputs": [
    {
     "name": "stdout",
     "output_type": "stream",
     "text": [
      " Sum of w give = 91.29988062995815\n"
     ]
    }
   ],
   "source": [
    "newdf = df[['Brand', 'RAM', 'Storage', 'Screen']]\n",
    "group = newdf.groupby('Brand')\n",
    "new_group = group.get_group('Innjoo')\n",
    "#print(new_group)\n",
    "\n",
    "# Get numpy array\n",
    "X = new_group[['RAM', 'Storage', 'Screen']].values\n",
    "#print(X)\n",
    "\n",
    "XTX = np.dot(X.T,X)\n",
    "#print(f'Dot Product of XT and X is :\\n{XTX}')\n",
    "\n",
    "inv_XTX = np.linalg.inv(XTX)\n",
    "#print(f'Inverse matrix of XTX is :\\n{inv_XTX}')\n",
    "\n",
    "y = [1100, 1300, 800, 900, 1000, 1100]\n",
    "\n",
    "w1 = np.dot(inv_XTX,X.T)\n",
    "w = np.dot(w1,y)\n",
    "#print(f'dot product gives w= :\\n{w}')\n",
    "print(f' Sum of w give = {sum(w)}')"
   ]
  },
  {
   "cell_type": "code",
   "execution_count": null,
   "id": "ef94f58d",
   "metadata": {},
   "outputs": [],
   "source": []
  }
 ],
 "metadata": {
  "kernelspec": {
   "display_name": "Python 3 (ipykernel)",
   "language": "python",
   "name": "python3"
  },
  "language_info": {
   "codemirror_mode": {
    "name": "ipython",
    "version": 3
   },
   "file_extension": ".py",
   "mimetype": "text/x-python",
   "name": "python",
   "nbconvert_exporter": "python",
   "pygments_lexer": "ipython3",
   "version": "3.11.5"
  }
 },
 "nbformat": 4,
 "nbformat_minor": 5
}
