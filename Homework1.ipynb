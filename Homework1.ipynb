{
 "cells": [
  {
   "cell_type": "markdown",
   "id": "408f9fde",
   "metadata": {},
   "source": [
    "# Homework 1"
   ]
  },
  {
   "cell_type": "code",
   "execution_count": 7,
   "id": "aacef097",
   "metadata": {},
   "outputs": [],
   "source": [
    "import numpy as np\n",
    "import pandas as pd\n",
    "\n",
    "np.set_printoptions(suppress=True)"
   ]
  },
  {
   "cell_type": "markdown",
   "id": "64a23838",
   "metadata": {},
   "source": [
    "## Q1 Panda version"
   ]
  },
  {
   "cell_type": "code",
   "execution_count": 8,
   "id": "febf149a",
   "metadata": {},
   "outputs": [
    {
     "name": "stdout",
     "output_type": "stream",
     "text": [
      "2.0.3\n"
     ]
    }
   ],
   "source": [
    "ver = pd.__version__\n",
    "print(ver)"
   ]
  },
  {
   "cell_type": "markdown",
   "id": "fe450df4",
   "metadata": {},
   "source": [
    "## Q2 Records count"
   ]
  },
  {
   "cell_type": "code",
   "execution_count": 20,
   "id": "94a287fb",
   "metadata": {},
   "outputs": [
    {
     "data": {
      "text/plain": [
       "2160"
      ]
     },
     "execution_count": 20,
     "metadata": {},
     "output_type": "execute_result"
    }
   ],
   "source": [
    "df = pd.read_csv(\"./laptops.csv\")\n",
    "df.shape[0]"
   ]
  },
  {
   "cell_type": "code",
   "execution_count": 21,
   "id": "bd247bf2",
   "metadata": {},
   "outputs": [
    {
     "data": {
      "text/html": [
       "<div>\n",
       "<style scoped>\n",
       "    .dataframe tbody tr th:only-of-type {\n",
       "        vertical-align: middle;\n",
       "    }\n",
       "\n",
       "    .dataframe tbody tr th {\n",
       "        vertical-align: top;\n",
       "    }\n",
       "\n",
       "    .dataframe thead th {\n",
       "        text-align: right;\n",
       "    }\n",
       "</style>\n",
       "<table border=\"1\" class=\"dataframe\">\n",
       "  <thead>\n",
       "    <tr style=\"text-align: right;\">\n",
       "      <th></th>\n",
       "      <th>Laptop</th>\n",
       "      <th>Status</th>\n",
       "      <th>Brand</th>\n",
       "      <th>Model</th>\n",
       "      <th>CPU</th>\n",
       "      <th>RAM</th>\n",
       "      <th>Storage</th>\n",
       "      <th>Storage type</th>\n",
       "      <th>GPU</th>\n",
       "      <th>Screen</th>\n",
       "      <th>Touch</th>\n",
       "      <th>Final Price</th>\n",
       "    </tr>\n",
       "  </thead>\n",
       "  <tbody>\n",
       "    <tr>\n",
       "      <th>0</th>\n",
       "      <td>ASUS ExpertBook B1 B1502CBA-EJ0436X Intel Core...</td>\n",
       "      <td>New</td>\n",
       "      <td>Asus</td>\n",
       "      <td>ExpertBook</td>\n",
       "      <td>Intel Core i5</td>\n",
       "      <td>8</td>\n",
       "      <td>512</td>\n",
       "      <td>SSD</td>\n",
       "      <td>NaN</td>\n",
       "      <td>15.6</td>\n",
       "      <td>No</td>\n",
       "      <td>1009.0</td>\n",
       "    </tr>\n",
       "    <tr>\n",
       "      <th>1</th>\n",
       "      <td>Alurin Go Start Intel Celeron N4020/8GB/256GB ...</td>\n",
       "      <td>New</td>\n",
       "      <td>Alurin</td>\n",
       "      <td>Go</td>\n",
       "      <td>Intel Celeron</td>\n",
       "      <td>8</td>\n",
       "      <td>256</td>\n",
       "      <td>SSD</td>\n",
       "      <td>NaN</td>\n",
       "      <td>15.6</td>\n",
       "      <td>No</td>\n",
       "      <td>299.0</td>\n",
       "    </tr>\n",
       "  </tbody>\n",
       "</table>\n",
       "</div>"
      ],
      "text/plain": [
       "                                              Laptop Status   Brand  \\\n",
       "0  ASUS ExpertBook B1 B1502CBA-EJ0436X Intel Core...    New    Asus   \n",
       "1  Alurin Go Start Intel Celeron N4020/8GB/256GB ...    New  Alurin   \n",
       "\n",
       "        Model            CPU  RAM  Storage Storage type  GPU  Screen Touch  \\\n",
       "0  ExpertBook  Intel Core i5    8      512          SSD  NaN    15.6    No   \n",
       "1          Go  Intel Celeron    8      256          SSD  NaN    15.6    No   \n",
       "\n",
       "   Final Price  \n",
       "0       1009.0  \n",
       "1        299.0  "
      ]
     },
     "execution_count": 21,
     "metadata": {},
     "output_type": "execute_result"
    }
   ],
   "source": [
    "df.head(2)"
   ]
  },
  {
   "cell_type": "markdown",
   "id": "673cfd34",
   "metadata": {},
   "source": [
    "## Q3 Laptop Brands"
   ]
  },
  {
   "cell_type": "code",
   "execution_count": 22,
   "id": "7ef2aa89",
   "metadata": {},
   "outputs": [
    {
     "data": {
      "text/plain": [
       "27"
      ]
     },
     "execution_count": 22,
     "metadata": {},
     "output_type": "execute_result"
    }
   ],
   "source": [
    "df.Brand.nunique()\n"
   ]
  },
  {
   "cell_type": "markdown",
   "id": "39d2624d",
   "metadata": {},
   "source": [
    "## Q4 Missing Values"
   ]
  },
  {
   "cell_type": "code",
   "execution_count": 18,
   "id": "d8a5adaf",
   "metadata": {},
   "outputs": [
    {
     "name": "stdout",
     "output_type": "stream",
     "text": [
      "Laptop             0\n",
      "Status             0\n",
      "Brand              0\n",
      "Model              0\n",
      "CPU                0\n",
      "RAM                0\n",
      "Storage            0\n",
      "Storage type      42\n",
      "GPU             1371\n",
      "Screen             4\n",
      "Touch              0\n",
      "Final Price        0\n",
      "dtype: int64\n"
     ]
    }
   ],
   "source": [
    "df.isnull().sum()\n"
   ]
  },
  {
   "cell_type": "markdown",
   "id": "6f88d4fb",
   "metadata": {},
   "source": [
    "## Q5 Max Final Price "
   ]
  },
  {
   "cell_type": "code",
   "execution_count": 23,
   "id": "d81a1c45",
   "metadata": {},
   "outputs": [
    {
     "data": {
      "text/html": [
       "<div>\n",
       "<style scoped>\n",
       "    .dataframe tbody tr th:only-of-type {\n",
       "        vertical-align: middle;\n",
       "    }\n",
       "\n",
       "    .dataframe tbody tr th {\n",
       "        vertical-align: top;\n",
       "    }\n",
       "\n",
       "    .dataframe thead th {\n",
       "        text-align: right;\n",
       "    }\n",
       "</style>\n",
       "<table border=\"1\" class=\"dataframe\">\n",
       "  <thead>\n",
       "    <tr style=\"text-align: right;\">\n",
       "      <th></th>\n",
       "      <th>Final Price</th>\n",
       "    </tr>\n",
       "    <tr>\n",
       "      <th>Brand</th>\n",
       "      <th></th>\n",
       "    </tr>\n",
       "  </thead>\n",
       "  <tbody>\n",
       "    <tr>\n",
       "      <th>Acer</th>\n",
       "      <td>3691.00</td>\n",
       "    </tr>\n",
       "    <tr>\n",
       "      <th>Alurin</th>\n",
       "      <td>869.00</td>\n",
       "    </tr>\n",
       "    <tr>\n",
       "      <th>Apple</th>\n",
       "      <td>3849.00</td>\n",
       "    </tr>\n",
       "    <tr>\n",
       "      <th>Asus</th>\n",
       "      <td>5758.14</td>\n",
       "    </tr>\n",
       "    <tr>\n",
       "      <th>Deep Gaming</th>\n",
       "      <td>1639.01</td>\n",
       "    </tr>\n",
       "    <tr>\n",
       "      <th>Dell</th>\n",
       "      <td>3936.00</td>\n",
       "    </tr>\n",
       "    <tr>\n",
       "      <th>Denver</th>\n",
       "      <td>329.95</td>\n",
       "    </tr>\n",
       "    <tr>\n",
       "      <th>Dynabook Toshiba</th>\n",
       "      <td>1805.01</td>\n",
       "    </tr>\n",
       "    <tr>\n",
       "      <th>Gigabyte</th>\n",
       "      <td>3799.00</td>\n",
       "    </tr>\n",
       "    <tr>\n",
       "      <th>HP</th>\n",
       "      <td>5368.77</td>\n",
       "    </tr>\n",
       "    <tr>\n",
       "      <th>Innjoo</th>\n",
       "      <td>431.38</td>\n",
       "    </tr>\n",
       "    <tr>\n",
       "      <th>Jetwing</th>\n",
       "      <td>469.27</td>\n",
       "    </tr>\n",
       "    <tr>\n",
       "      <th>LG</th>\n",
       "      <td>2399.00</td>\n",
       "    </tr>\n",
       "    <tr>\n",
       "      <th>Lenovo</th>\n",
       "      <td>5018.14</td>\n",
       "    </tr>\n",
       "    <tr>\n",
       "      <th>MSI</th>\n",
       "      <td>7150.47</td>\n",
       "    </tr>\n",
       "    <tr>\n",
       "      <th>Medion</th>\n",
       "      <td>3799.00</td>\n",
       "    </tr>\n",
       "    <tr>\n",
       "      <th>Microsoft</th>\n",
       "      <td>3747.91</td>\n",
       "    </tr>\n",
       "    <tr>\n",
       "      <th>Millenium</th>\n",
       "      <td>2312.71</td>\n",
       "    </tr>\n",
       "    <tr>\n",
       "      <th>PcCom</th>\n",
       "      <td>1949.90</td>\n",
       "    </tr>\n",
       "    <tr>\n",
       "      <th>Primux</th>\n",
       "      <td>599.41</td>\n",
       "    </tr>\n",
       "    <tr>\n",
       "      <th>Prixton</th>\n",
       "      <td>329.95</td>\n",
       "    </tr>\n",
       "    <tr>\n",
       "      <th>Razer</th>\n",
       "      <td>4999.01</td>\n",
       "    </tr>\n",
       "    <tr>\n",
       "      <th>Realme</th>\n",
       "      <td>999.00</td>\n",
       "    </tr>\n",
       "    <tr>\n",
       "      <th>Samsung</th>\n",
       "      <td>3699.01</td>\n",
       "    </tr>\n",
       "    <tr>\n",
       "      <th>Thomson</th>\n",
       "      <td>436.56</td>\n",
       "    </tr>\n",
       "    <tr>\n",
       "      <th>Toshiba</th>\n",
       "      <td>799.00</td>\n",
       "    </tr>\n",
       "    <tr>\n",
       "      <th>Vant</th>\n",
       "      <td>1217.01</td>\n",
       "    </tr>\n",
       "  </tbody>\n",
       "</table>\n",
       "</div>"
      ],
      "text/plain": [
       "                  Final Price\n",
       "Brand                        \n",
       "Acer                  3691.00\n",
       "Alurin                 869.00\n",
       "Apple                 3849.00\n",
       "Asus                  5758.14\n",
       "Deep Gaming           1639.01\n",
       "Dell                  3936.00\n",
       "Denver                 329.95\n",
       "Dynabook Toshiba      1805.01\n",
       "Gigabyte              3799.00\n",
       "HP                    5368.77\n",
       "Innjoo                 431.38\n",
       "Jetwing                469.27\n",
       "LG                    2399.00\n",
       "Lenovo                5018.14\n",
       "MSI                   7150.47\n",
       "Medion                3799.00\n",
       "Microsoft             3747.91\n",
       "Millenium             2312.71\n",
       "PcCom                 1949.90\n",
       "Primux                 599.41\n",
       "Prixton                329.95\n",
       "Razer                 4999.01\n",
       "Realme                 999.00\n",
       "Samsung               3699.01\n",
       "Thomson                436.56\n",
       "Toshiba                799.00\n",
       "Vant                  1217.01"
      ]
     },
     "execution_count": 23,
     "metadata": {},
     "output_type": "execute_result"
    }
   ],
   "source": [
    "df.groupby(\"Brand\")[[\"Final Price\"]].max()"
   ]
  },
  {
   "cell_type": "markdown",
   "id": "68f07479",
   "metadata": {},
   "source": [
    "## Q6 Median Value of Screen"
   ]
  },
  {
   "cell_type": "code",
   "execution_count": 30,
   "id": "22b094b2",
   "metadata": {},
   "outputs": [
    {
     "name": "stdout",
     "output_type": "stream",
     "text": [
      "The median value of Screen is : 15.6\n",
      "The most common value in Screen is : 15.6\n",
      "The median value of Screen is : 15.6\n"
     ]
    }
   ],
   "source": [
    "med = df[\"Screen\"].median()\n",
    "print(f\"The median value of Screen is : {med}\")\n",
    "\n",
    "mod = df[\"Screen\"].mode(dropna=True)[0]\n",
    "print(f\"The most common value in Screen is : {mod}\")\n",
    "\n",
    "df[\"Screen\"].fillna(mod, inplace=True)\n",
    "med = df[\"Screen\"].median()\n",
    "print(f\"The median value of Screen is : {med}\")"
   ]
  },
  {
   "cell_type": "markdown",
   "id": "b1e7376f",
   "metadata": {},
   "source": [
    "## Q7 Sum of weights"
   ]
  },
  {
   "cell_type": "code",
   "execution_count": 35,
   "id": "a86d2fc3",
   "metadata": {},
   "outputs": [
    {
     "name": "stdout",
     "output_type": "stream",
     "text": [
      " Sum of w give = 91.29988062995815\n"
     ]
    }
   ],
   "source": [
    "newdf = df[['Brand', 'RAM', 'Storage', 'Screen']]\n",
    "group = newdf.groupby('Brand')\n",
    "new_group = group.get_group('Innjoo')\n",
    "#print(new_group)\n",
    "\n",
    "# Get numpy array\n",
    "X = new_group[['RAM', 'Storage', 'Screen']].values\n",
    "#print(X)\n",
    "\n",
    "XTX = np.dot(X.T,X)\n",
    "#print(f'Dot Product of XT and X is :\\n{XTX}')\n",
    "\n",
    "inv_XTX = np.linalg.inv(XTX)\n",
    "#print(f'Inverse matrix of XTX is :\\n{inv_XTX}')\n",
    "\n",
    "y = [1100, 1300, 800, 900, 1000, 1100]\n",
    "\n",
    "w1 = np.dot(inv_XTX,X.T)\n",
    "w = np.dot(w1,y)\n",
    "#print(f'dot product gives w= :\\n{w}')\n",
    "print(f' Sum of w give = {sum(w)}')"
   ]
  },
  {
   "cell_type": "code",
   "execution_count": null,
   "id": "ef94f58d",
   "metadata": {},
   "outputs": [],
   "source": []
  }
 ],
 "metadata": {
  "kernelspec": {
   "display_name": "Python 3 (ipykernel)",
   "language": "python",
   "name": "python3"
  },
  "language_info": {
   "codemirror_mode": {
    "name": "ipython",
    "version": 3
   },
   "file_extension": ".py",
   "mimetype": "text/x-python",
   "name": "python",
   "nbconvert_exporter": "python",
   "pygments_lexer": "ipython3",
   "version": "3.11.5"
  }
 },
 "nbformat": 4,
 "nbformat_minor": 5
}
